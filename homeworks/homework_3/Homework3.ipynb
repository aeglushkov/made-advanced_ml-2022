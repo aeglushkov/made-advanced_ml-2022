{
 "cells": [
  {
   "cell_type": "code",
   "execution_count": 1,
   "id": "d24bd097",
   "metadata": {},
   "outputs": [],
   "source": [
    "# pip install python-Levenshtein"
   ]
  },
  {
   "cell_type": "code",
   "execution_count": 2,
   "id": "77ee9028",
   "metadata": {},
   "outputs": [],
   "source": [
    "from typing import List, Dict\n",
    "import re\n",
    "from collections import Counter\n",
    "import random\n",
    "\n",
    "from Levenshtein import distance as levenshtein_distance"
   ]
  },
  {
   "cell_type": "code",
   "execution_count": 3,
   "id": "0c079765",
   "metadata": {},
   "outputs": [],
   "source": [
    "WAR_AND_PEACE_RU_FPATH = \"./data/WarAndPeace.txt\"\n",
    "\n",
    "LOWER_CHAR_NUM, UPPER_CHAR_NUM = ord(\"а\"), ord(\"я\") + 1\n",
    "ALPHABET = [chr(i) for i in range(LOWER_CHAR_NUM, UPPER_CHAR_NUM)] + [\" \"]"
   ]
  },
  {
   "cell_type": "code",
   "execution_count": 4,
   "id": "ad2d1219",
   "metadata": {},
   "outputs": [
    {
     "name": "stdout",
     "output_type": "stream",
     "text": [
      "['а', 'б', 'в', 'г', 'д', 'е', 'ж', 'з', 'и', 'й', 'к', 'л', 'м', 'н', 'о', 'п', 'р', 'с', 'т', 'у', 'ф', 'х', 'ц', 'ч', 'ш', 'щ', 'ъ', 'ы', 'ь', 'э', 'ю', 'я', ' ']\n"
     ]
    }
   ],
   "source": [
    "print(ALPHABET)"
   ]
  },
  {
   "cell_type": "code",
   "execution_count": 5,
   "id": "d0f6a442",
   "metadata": {},
   "outputs": [],
   "source": [
    "with open(WAR_AND_PEACE_RU_FPATH, \"r\") as f:\n",
    "    raw_text = f.readlines()"
   ]
  },
  {
   "cell_type": "code",
   "execution_count": 6,
   "id": "093edb8c",
   "metadata": {},
   "outputs": [],
   "source": [
    "def preprocess_text(raw_text: List[str]) -> str:\n",
    "    text = \" \".join(raw_text).lower()\n",
    "    text = re.sub(\"\\W+\", \" \", text)\n",
    "    return text"
   ]
  },
  {
   "cell_type": "code",
   "execution_count": 7,
   "id": "00402381",
   "metadata": {},
   "outputs": [],
   "source": [
    "text = preprocess_text(raw_text)"
   ]
  },
  {
   "cell_type": "markdown",
   "id": "0361ef9d",
   "metadata": {},
   "source": [
    "# Task 1\n",
    "Реализуйте базовый частотный метод по Шерлоку Холмсу:\n",
    "* подсчитайте частоты букв по корпусам (пунктуацию и капитализацию можно просто опустить, а вот пробелы лучше оставить);\n",
    "* возьмите какие-нибудь тестовые тексты (нужно взять по меньшей мере 2-3 предложения, иначе вряд ли сработает), зашифруйте их посредством случайной перестановки символов;\n",
    "* расшифруйте их таким частотным методом.\n"
   ]
  },
  {
   "cell_type": "code",
   "execution_count": 8,
   "id": "aaff2807",
   "metadata": {},
   "outputs": [
    {
     "name": "stdout",
     "output_type": "stream",
     "text": [
      " оаеинтслвркдмупягьызбчйжшхeюцnsiaruotэщlфmcdpvёhébqfъgjzxèà0êy1kw2ç8â53ô769î4öüûíäå\n"
     ]
    }
   ],
   "source": [
    "counter = Counter(text)\n",
    "sorted_chars = [char for char, cnt in sorted(counter.items(), key=lambda x: x[1], reverse=True)]\n",
    "sorted_chars = \"\".join(sorted_chars)\n",
    "print(sorted_chars)"
   ]
  },
  {
   "cell_type": "code",
   "execution_count": 9,
   "id": "b8a1a970",
   "metadata": {},
   "outputs": [
    {
     "data": {
      "text/plain": [
       "' денисов закусив ус с мрачным видом слушал разговор видимо не желая вступаться в него на вопрос штаб ротмистра он отрицательно покачал головой вы при офицерах говорите полковому командиру про эту пакость продолжал штаб ротмистр богданыч богданычем называли полкового командира вас осадил не осадил а сказал что я неправду говорю '"
      ]
     },
     "execution_count": 9,
     "metadata": {},
     "output_type": "execute_result"
    }
   ],
   "source": [
    "start_idx = len(raw_text) // 2\n",
    "end_idx = start_idx + 7\n",
    "test_text = preprocess_text(raw_text[start_idx : end_idx])\n",
    "test_text"
   ]
  },
  {
   "cell_type": "code",
   "execution_count": 10,
   "id": "a05f4b0b",
   "metadata": {},
   "outputs": [
    {
     "name": "stdout",
     "output_type": "stream",
     "text": [
      "['э', 'н', 'ч', 'х', 'б', 'в', 'щ', 'й', 'о', 'ш', 'ы', 'к', 'а', 'ф', 'у', 'г', 'ц', 'е', 'ю', ' ', 'з', 'м', 'и', 'р', 'ъ', 'я', 'л', 'д', 'ж', 'с', 'ь', 'п', 'т']\n"
     ]
    }
   ],
   "source": [
    "RANDOM_ALPHABET_SHUFFLE  = random.sample(ALPHABET, len(ALPHABET))\n",
    "print(RANDOM_ALPHABET_SHUFFLE)"
   ]
  },
  {
   "cell_type": "code",
   "execution_count": 11,
   "id": "ac4a6fe3",
   "metadata": {},
   "outputs": [],
   "source": [
    "def encode_text(text: str) -> str:\n",
    "    random_alphabet_suffle_str = \"\".join(RANDOM_ALPHABET_SHUFFLE)\n",
    "    alphabet_str = \"\".join(ALPHABET)\n",
    "    encoded_text = text.translate(\n",
    "        str.maketrans(\n",
    "            random_alphabet_suffle_str, alphabet_str\n",
    "        )\n",
    "    )\n",
    "    return encoded_text"
   ]
  },
  {
   "cell_type": "code",
   "execution_count": 12,
   "id": "5f54a962",
   "metadata": {},
   "outputs": [
    {
     "data": {
      "text/plain": [
       "'уысбцэиеуфмлоэцеуоэуэухчмвбкхуецыихуэъоймъучмфпиеичуецыцхиубсуьсъмщуеэ оям юэщуеубспиубмуеиячиэуй мдучи хцэ чмуибуи чцрм съюбиуяилмвмъупиъиеизуекуячцуинцрсчмгупиеичц суяиълиеихоулихмбыцчоуячиуа оуямлиэ юуячиыиъьмъуй мдучи хцэ чудипымбквудипымбквсхубмфкемъцуяиълиеипиулихмбыцчмуемэуиэмыцъубсуиэмыцъумуэлмфмъув иущубсячмеыоупиеичту'"
      ]
     },
     "execution_count": 12,
     "metadata": {},
     "output_type": "execute_result"
    }
   ],
   "source": [
    "encoded_test_text = encode_text(test_text)\n",
    "encoded_test_text"
   ]
  },
  {
   "cell_type": "code",
   "execution_count": 13,
   "id": "3d9bacc2",
   "metadata": {},
   "outputs": [],
   "source": [
    "def decode_text(encoded_text: str) -> str:\n",
    "    counter = Counter(encoded_text)\n",
    "    encoded_text_chars = [\n",
    "        char for char, cnt in sorted(\n",
    "            counter.items(), key=lambda x: x[1], reverse=True\n",
    "        )\n",
    "    ]\n",
    "    encoded_text_chars = \"\".join(encoded_text_chars)\n",
    "    min_len = min(len(encoded_text_chars), len(sorted_chars))\n",
    "    text = encoded_text.translate(\n",
    "        str.maketrans(\n",
    "            encoded_text_chars[:min_len], sorted_chars[:min_len]\n",
    "        )\n",
    "    )\n",
    "    return text"
   ]
  },
  {
   "cell_type": "code",
   "execution_count": 14,
   "id": "5039d9b1",
   "metadata": {},
   "outputs": [
    {
     "data": {
      "text/plain": [
       "' ркснтои ыауптни пт т деагсьд инрод тлпбал еаыяоиое инрндо ск жклач итвпмавйтч и скяо са иомеот бваз еовднтвеа ос овеншавклйсо моуагал яолоиох иь мен оeншкеаю яоиоенвк молуоиодп уодасрнеп мео цвп мауотвй меоролжал бваз еовднтве зоярасьг зоярасьгкд саыьиалн молуоиояо уодасрнеа иат отарнл ск отарнл а туаыал гво ч скмеаирп яоиоеn '"
      ]
     },
     "execution_count": 14,
     "metadata": {},
     "output_type": "execute_result"
    }
   ],
   "source": [
    "decoded_test_text = decode_text(encoded_test_text)\n",
    "decoded_test_text"
   ]
  },
  {
   "cell_type": "code",
   "execution_count": 15,
   "id": "3e0f613d",
   "metadata": {},
   "outputs": [
    {
     "name": "stdout",
     "output_type": "stream",
     "text": [
      "Levenshtein distance: 192\n",
      "Number of chars in text: 329\n"
     ]
    }
   ],
   "source": [
    "lev_distance = levenshtein_distance(test_text, decoded_test_text)\n",
    "print(\"Levenshtein distance:\", lev_distance)\n",
    "print(\"Number of chars in text:\", len(test_text))"
   ]
  },
  {
   "cell_type": "markdown",
   "id": "bd618ac9",
   "metadata": {},
   "source": [
    "# Task 2\n",
    "Вряд ли в результате получилась такая уж хорошая расшифровка, разве что если вы брали в качестве тестовых данных целые рассказы. Но и Шерлок Холмс был не так уж прост: после буквы E, которая действительно выделяется частотой, дальше он анализировал уже конкретные слова и пытался угадать, какими они могли бы быть. Я не знаю, как запрограммировать такой интуитивный анализ, так что давайте просто сделаем следующий логический шаг:\n",
    "* подсчитайте частоты биграмм (т.е. пар последовательных букв) по корпусам;\n",
    "* проведите тестирование аналогично п.1, но при помощи биграмм."
   ]
  },
  {
   "cell_type": "code",
   "execution_count": 16,
   "id": "f968e6aa",
   "metadata": {},
   "outputs": [],
   "source": [
    "letters = list(text)\n",
    "bigram_counter = Counter(zip(letters, letters[1:]))\n",
    "sorted_bigrams = [\n",
    "    \"\".join(bigram) for bigram, cnt in sorted(\n",
    "        bigram_counter.items(), key=lambda x: x[1], reverse=True\n",
    "    )\n",
    "]"
   ]
  },
  {
   "cell_type": "code",
   "execution_count": 17,
   "id": "9d01244c",
   "metadata": {},
   "outputs": [],
   "source": [
    "def decode_text_bigrams(encoded_text: str) -> str:\n",
    "    letters = list(encoded_text)\n",
    "    counter = Counter(zip(letters, letters[1:]))\n",
    "    encoded_text_bigrams = [\n",
    "        \"\".join(bigram) for bigram, cnt in sorted(\n",
    "            counter.items(), key=lambda x: x[1], reverse=True\n",
    "        )\n",
    "    ]\n",
    "    text = encoded_text\n",
    "    min_len = min(len(encoded_text_bigrams), len(sorted_bigrams))\n",
    "    # We cant change enc_bigram to bigram in one step,\n",
    "    # because if enc_bigram[N] == biram[N-M] we can get bad result\n",
    "    # So, at first, I replace enc_bigrams to numbers with special symbol \".\"\n",
    "    # And, finally, replace these numbers to bigrams in reverse order\n",
    "    for i, enc_bigram in enumerate(encoded_text_bigrams[:min_len]):\n",
    "        text = text.replace(enc_bigram, str(i) + \".\")\n",
    "    for i in range(min_len - 1, -1, -1):\n",
    "        text = text.replace(str(i) + \".\", sorted_bigrams[i])\n",
    "    return text"
   ]
  },
  {
   "cell_type": "code",
   "execution_count": 18,
   "id": "0175bb0a",
   "metadata": {},
   "outputs": [
    {
     "data": {
      "text/plain": [
       "'аслел о уотллицй онанах св бхи в гокаегсь п сито  ди ця х налинпрныи нео мта аи тос втоми и кина чк у итьцне сстбстенскзапраяие дилом п въо ами ке онстнскс сгу о  дцате рало гокоь ховя сле ч навае мь неюе  иырабо п чк у итьцнередосыовдаакосыовдачатовотв оце рало и вуь ховя  си дрст ея  палст ея  ппошивом пту нщтокр сспкопо  дs '"
      ]
     },
     "execution_count": 18,
     "metadata": {},
     "output_type": "execute_result"
    }
   ],
   "source": [
    "decoded_test_text_bigrams = decode_text_bigrams(encoded_test_text)\n",
    "decoded_test_text_bigrams"
   ]
  },
  {
   "cell_type": "code",
   "execution_count": 19,
   "id": "4a204ccb",
   "metadata": {},
   "outputs": [
    {
     "name": "stdout",
     "output_type": "stream",
     "text": [
      "Levenshtein distance: 266\n",
      "Number of chars in text: 329\n"
     ]
    }
   ],
   "source": [
    "lev_distance = levenshtein_distance(test_text, decoded_test_text_bigrams)\n",
    "print(\"Levenshtein distance:\", lev_distance)\n",
    "print(\"Number of chars in text:\", len(test_text))"
   ]
  },
  {
   "cell_type": "markdown",
   "id": "ce6703ad",
   "metadata": {},
   "source": [
    "# Task 3\n",
    "Но и это ещё не всё: биграммы скорее всего тоже далеко не всегда работают.\n",
    "Основная часть задания — в том, как можно их улучшить:\n",
    "* предложите метод обучения перестановки символов в этом задании, основанный на MCMC-сэмплировании, но по-прежнему работающий на основе статистики биграмм;\n",
    "* реализуйте и протестируйте его, убедитесь, что результаты улучшились."
   ]
  },
  {
   "cell_type": "code",
   "execution_count": 20,
   "id": "9e637469",
   "metadata": {},
   "outputs": [],
   "source": [
    "letters = list(text)\n",
    "bigram_counter = Counter(zip(letters, letters[1:]))\n",
    "for letter1 in ALPHABET:\n",
    "    for letter2 in ALPHABET:\n",
    "        bigram_counter[(letter1, letter2)] += 1"
   ]
  },
  {
   "cell_type": "code",
   "execution_count": 21,
   "id": "ff4833aa",
   "metadata": {},
   "outputs": [],
   "source": [
    "total_comb = len(text) - 1 + len(ALPHABET) ** 2\n",
    "for key in bigram_counter.keys():\n",
    "    bigram_counter[key] /= total_comb"
   ]
  },
  {
   "cell_type": "code",
   "execution_count": 22,
   "id": "820b6cb8",
   "metadata": {},
   "outputs": [],
   "source": [
    "def decode_text_3(encoded_text: str, n: int = 5, m: int = 5000) -> str:\n",
    "    decoded_text = encoded_text\n",
    "    for _ in range(n):\n",
    "        alphabet_sample = random.sample(ALPHABET, len(ALPHABET))\n",
    "        permutations = {alph_1: alph_2 for alph_1, alph_2 in zip(ALPHABET, alphabet_sample)}\n",
    "        for _ in range(m):\n",
    "            char_1 = random.choice(ALPHABET)\n",
    "            char_2 = random.choice(ALPHABET)\n",
    "            while char_1 == char_2:\n",
    "                char_2 = random.choice(ALPHABET)\n",
    "\n",
    "            text_1 = permute(encoded_text, permutations)\n",
    "            \n",
    "            permutations[char_1], permutations[char_2] = permutations[char_2], permutations[char_1]\n",
    "            text_2 = permute(encoded_text, permutations)\n",
    "            \n",
    "            if calculate_p(text_2, text_1) < random.uniform(0, 1):\n",
    "                permutations[char_1], permutations[char_2] = permutations[char_2], permutations[char_1]\n",
    "                \n",
    "        text = permute(encoded_text, permutations)\n",
    "        if calculate_p(text, decoded_text) > 1:\n",
    "            decoded_text = text\n",
    "    return decoded_text\n",
    "\n",
    "\n",
    "def permute(text: str, permutations: Dict[str, str]) -> str:\n",
    "    new_text = \"\".join(\n",
    "        [\n",
    "            permutations[char] for char in text\n",
    "        ]\n",
    "    )\n",
    "    return new_text\n",
    "\n",
    "\n",
    "def calculate_p(txt1: str, txt2: str):\n",
    "    score = 1\n",
    "    for i in range(len(txt1) - 1):\n",
    "        before = bigram_counter[(txt1[i], txt1[i+1])]\n",
    "        after = bigram_counter[(txt2[i], txt2[i+1])]\n",
    "        score *= before / after\n",
    "    return score"
   ]
  },
  {
   "cell_type": "code",
   "execution_count": 23,
   "id": "a6153805",
   "metadata": {},
   "outputs": [
    {
     "data": {
      "text/plain": [
       "' никесов запысев ыс с драшкуд венод слычал разговор венедо ки жилая встыбаться в киго ка воброс чтам ротдестра ок отрещатилько бопашал головой ву бре офещирах говорети болповоды подакнеры бро эты бапость бронолжал чтам ротдестр могнакуш могнакушид казувале болпового подакнера вас осанел ки осанел а спазал што я кибравны говорю '"
      ]
     },
     "execution_count": 23,
     "metadata": {},
     "output_type": "execute_result"
    }
   ],
   "source": [
    "decoded_test_text_3 = decode_text_3(encoded_test_text)\n",
    "decoded_test_text_3"
   ]
  },
  {
   "cell_type": "code",
   "execution_count": 24,
   "id": "2c15a10e",
   "metadata": {},
   "outputs": [
    {
     "name": "stdout",
     "output_type": "stream",
     "text": [
      "Levenshtein distance: 106\n",
      "Number of chars in text: 329\n"
     ]
    }
   ],
   "source": [
    "lev_distance = levenshtein_distance(test_text, decoded_test_text_3)\n",
    "print(\"Levenshtein distance:\", lev_distance)\n",
    "print(\"Number of chars in text:\", len(test_text))"
   ]
  },
  {
   "cell_type": "markdown",
   "id": "547ec11a",
   "metadata": {},
   "source": [
    "# Task 4\n",
    "Расшифруйте сообщение:  \n",
    "←⇠⇒↟↹↷⇊↹↷↟↤↟↨←↹↝⇛⇯↳⇴⇒⇈↝⇊↾↹↟⇒↟↹⇷⇛⇞↨↟↹↝⇛⇯↳⇴⇒⇈↝⇊↾↹↨←⇌⇠↨↹⇙↹⇸  \n",
    "↨⇛↙⇛↹⇠⇛⇛↲⇆←↝↟↞↹⇌⇛↨⇛⇯⇊↾↹⇒←↙⇌⇛↹⇷⇯⇛⇞↟↨⇴↨⇈↹⇠⇌⇛⇯←←↹↷⇠←↙⇛↹↷⇊  \n",
    "↹↷⇠←↹⇠↤←⇒⇴⇒↟↹⇷⇯⇴↷↟⇒⇈↝⇛↹↟↹⇷⇛⇒⇙⇞↟↨←↹↳⇴⇌⇠↟↳⇴⇒⇈↝⇊↾↹↲⇴⇒⇒  \n",
    "↹⇰⇴↹⇷⇛⇠⇒←↤↝←←↹⇞←↨↷←⇯↨⇛←↹⇰⇴↤⇴↝↟←↹⇌⇙⇯⇠⇴↹↘⇛↨↞↹⇌⇛↝←  \n",
    "⇞↝⇛↹↞↹↝↟⇞←↙⇛↹↝←↹⇛↲←⇆⇴⇏  "
   ]
  },
  {
   "cell_type": "code",
   "execution_count": 29,
   "id": "8abf68df",
   "metadata": {},
   "outputs": [
    {
     "data": {
      "text/plain": [
       "'если вы вимите норчальный или подти норчальный текст у этого сообщения который легко продитать скорее всего вы все смелали правильно и полудите чаксичальный балл за послемнее детвертое замание курса хотя конедно я нидего не обещаж'"
      ]
     },
     "execution_count": 29,
     "metadata": {},
     "output_type": "execute_result"
    }
   ],
   "source": [
    "encoded_txt = \"←⇠⇒↟↹↷⇊↹↷↟↤↟↨←↹↝⇛⇯↳⇴⇒⇈↝⇊↾↹↟⇒↟↹⇷⇛⇞↨↟↹↝⇛⇯↳⇴⇒⇈↝⇊↾↹↨←⇌⇠↨↹⇙↹⇸↨⇛↙⇛↹⇠⇛⇛↲⇆←↝↟↞↹⇌⇛↨⇛⇯⇊↾↹⇒←↙⇌⇛↹⇷⇯⇛⇞↟↨⇴↨⇈↹⇠⇌⇛⇯←←↹↷⇠←↙⇛↹↷⇊↹↷⇠←↹⇠↤←⇒⇴⇒↟↹⇷⇯⇴↷↟⇒⇈↝⇛↹↟↹⇷⇛⇒⇙⇞↟↨←↹↳⇴⇌⇠↟↳⇴⇒⇈↝⇊↾↹↲⇴⇒⇒↹⇰⇴↹⇷⇛⇠⇒←↤↝←←↹⇞←↨↷←⇯↨⇛←↹⇰⇴↤⇴↝↟←↹⇌⇙⇯⇠⇴↹↘⇛↨↞↹⇌⇛↝←⇞↝⇛↹↞↹↝↟⇞←↙⇛↹↝←↹⇛↲←⇆⇴⇏\"\n",
    "txt_alphabet = \"\".join(list(set(encoded_txt)))\n",
    "encoded_txt = encoded_txt.translate(\n",
    "    str.maketrans(\n",
    "        txt_alphabet, \"\".join(ALPHABET[:len(txt_alphabet)])\n",
    "    )\n",
    ")\n",
    "decoded_txt = decode_text_3(encoded_txt, 20, 7000)\n",
    "decoded_txt"
   ]
  },
  {
   "cell_type": "code",
   "execution_count": null,
   "id": "341c1dfd",
   "metadata": {},
   "outputs": [],
   "source": []
  }
 ],
 "metadata": {
  "kernelspec": {
   "display_name": "Python 3 (ipykernel)",
   "language": "python",
   "name": "python3"
  },
  "language_info": {
   "codemirror_mode": {
    "name": "ipython",
    "version": 3
   },
   "file_extension": ".py",
   "mimetype": "text/x-python",
   "name": "python",
   "nbconvert_exporter": "python",
   "pygments_lexer": "ipython3",
   "version": "3.8.13"
  }
 },
 "nbformat": 4,
 "nbformat_minor": 5
}
