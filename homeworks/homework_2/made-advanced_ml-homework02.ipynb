{
 "cells": [
  {
   "cell_type": "code",
   "execution_count": 1,
   "id": "660e7557",
   "metadata": {},
   "outputs": [],
   "source": [
    "import os\n",
    "import pickle\n",
    "\n",
    "from sklearn.preprocessing import OneHotEncoder\n",
    "from sklearn.linear_model import LogisticRegression\n",
    "from scipy.sparse import vstack, hstack\n",
    "import numpy as np\n",
    "import pandas as pd\n",
    "from tqdm.auto import tqdm"
   ]
  },
  {
   "cell_type": "markdown",
   "id": "2ca64b52",
   "metadata": {},
   "source": [
    "# Task 1"
   ]
  },
  {
   "cell_type": "markdown",
   "id": "bf48a797",
   "metadata": {},
   "source": [
    "1. Прочитайте и проанализируйте данные, выберите турниры, в которых есть данные о составах команд и повопросных результатах (поле mask в results.pkl). Для унификации предлагаю:\n",
    "* взять в тренировочный набор турниры с dateStart из 2019 года;\n",
    "* в тестовый — турниры с dateStart из 2020 года."
   ]
  },
  {
   "cell_type": "code",
   "execution_count": 2,
   "id": "48894e7a",
   "metadata": {},
   "outputs": [],
   "source": [
    "DATA_PLAYERS_FPATH = \"./data/players.pkl\"\n",
    "DATA_RESULTS_FPATH = \"./data/results.pkl\"\n",
    "DATA_TOURNAMENTS_FPATH = \"./data/tournaments.pkl\"\n",
    "TRAIN_YEAR = 2019\n",
    "TEST_YEAR = 2020"
   ]
  },
  {
   "cell_type": "code",
   "execution_count": 3,
   "id": "eb708258",
   "metadata": {},
   "outputs": [],
   "source": [
    "with open(DATA_PLAYERS_FPATH, \"rb\") as f:\n",
    "    data_players = pickle.load(f)\n",
    "    \n",
    "with open(DATA_RESULTS_FPATH, \"rb\") as f:\n",
    "    data_results = pickle.load(f)\n",
    "    \n",
    "with open(DATA_TOURNAMENTS_FPATH, \"rb\") as f:\n",
    "    data_tournaments = pickle.load(f)"
   ]
  },
  {
   "cell_type": "code",
   "execution_count": 4,
   "id": "dcc8d8ab",
   "metadata": {},
   "outputs": [
    {
     "data": {
      "text/plain": [
       "{'id': 1, 'name': 'Алексей', 'patronymic': None, 'surname': 'Абабилов'}"
      ]
     },
     "execution_count": 4,
     "metadata": {},
     "output_type": "execute_result"
    }
   ],
   "source": [
    "data_players[1]"
   ]
  },
  {
   "cell_type": "code",
   "execution_count": 5,
   "id": "1ce67be3",
   "metadata": {
    "scrolled": false
   },
   "outputs": [
    {
     "data": {
      "text/plain": [
       "{'team': {'id': 242,\n",
       "  'name': 'Команда Азимова',\n",
       "  'town': {'id': 21, 'name': 'Баку'}},\n",
       " 'mask': None,\n",
       " 'current': {'name': 'Команда Азимова', 'town': {'id': 21, 'name': 'Баку'}},\n",
       " 'questionsTotal': 0,\n",
       " 'synchRequest': None,\n",
       " 'position': 1,\n",
       " 'controversials': [],\n",
       " 'flags': [],\n",
       " 'teamMembers': [{'flag': None,\n",
       "   'usedRating': 0,\n",
       "   'rating': 0,\n",
       "   'player': {'id': 476,\n",
       "    'name': 'Анар',\n",
       "    'patronymic': 'Беюкага оглы',\n",
       "    'surname': 'Азимов'}},\n",
       "  {'flag': None,\n",
       "   'usedRating': 0,\n",
       "   'rating': 0,\n",
       "   'player': {'id': 878,\n",
       "    'name': 'Фариз',\n",
       "    'patronymic': 'Наим оглы',\n",
       "    'surname': 'Аликишибеков'}},\n",
       "  {'flag': None,\n",
       "   'usedRating': 0,\n",
       "   'rating': 0,\n",
       "   'player': {'id': 1872,\n",
       "    'name': 'Аднан',\n",
       "    'patronymic': 'Фариз оглы',\n",
       "    'surname': 'Ахундов'}},\n",
       "  {'flag': None,\n",
       "   'usedRating': 0,\n",
       "   'rating': 0,\n",
       "   'player': {'id': 13721,\n",
       "    'name': 'Балаш',\n",
       "    'patronymic': 'Алекпер оглы',\n",
       "    'surname': 'Касумов'}},\n",
       "  {'flag': None,\n",
       "   'usedRating': 0,\n",
       "   'rating': 0,\n",
       "   'player': {'id': 22132,\n",
       "    'name': 'Анар',\n",
       "    'patronymic': 'Джафар оглы',\n",
       "    'surname': 'Наджафли'}},\n",
       "  {'flag': None,\n",
       "   'usedRating': 0,\n",
       "   'rating': 0,\n",
       "   'player': {'id': 22133,\n",
       "    'name': 'Рауф',\n",
       "    'patronymic': 'Джафар оглы',\n",
       "    'surname': 'Наджафли'}}]}"
      ]
     },
     "execution_count": 5,
     "metadata": {},
     "output_type": "execute_result"
    }
   ],
   "source": [
    "data_results[1][0]"
   ]
  },
  {
   "cell_type": "code",
   "execution_count": 6,
   "id": "855ee92e",
   "metadata": {},
   "outputs": [
    {
     "data": {
      "text/plain": [
       "{'id': 1,\n",
       " 'name': 'Чемпионат Южного Кавказа',\n",
       " 'dateStart': '2003-07-25T00:00:00+04:00',\n",
       " 'dateEnd': '2003-07-27T00:00:00+04:00',\n",
       " 'type': {'id': 2, 'name': 'Обычный'},\n",
       " 'season': '/seasons/1',\n",
       " 'orgcommittee': [],\n",
       " 'synchData': None,\n",
       " 'questionQty': None}"
      ]
     },
     "execution_count": 6,
     "metadata": {},
     "output_type": "execute_result"
    }
   ],
   "source": [
    "data_tournaments[1]"
   ]
  },
  {
   "cell_type": "code",
   "execution_count": 7,
   "id": "adf0d4a8",
   "metadata": {},
   "outputs": [
    {
     "name": "stdout",
     "output_type": "stream",
     "text": [
      "{'?', '1', 'X', '0'}\n"
     ]
    }
   ],
   "source": [
    "s = set()\n",
    "for key in data_results.keys():\n",
    "    for result in data_results[key]:\n",
    "        mask = result.get(\"mask\")\n",
    "        if mask is not None:\n",
    "            s.update(set(mask))\n",
    "print(s)"
   ]
  },
  {
   "cell_type": "code",
   "execution_count": 48,
   "id": "369f6783",
   "metadata": {},
   "outputs": [],
   "source": [
    "def collect_data_result(tournament_id):\n",
    "    data_results_collection = []\n",
    "    collecting_result = dict()\n",
    "    question_ids = []\n",
    "    player_ids = []\n",
    "    for result in data_results[tournament_id]:\n",
    "        mask = result.get(\"mask\")\n",
    "        team_members = result.get(\"teamMembers\")\n",
    "        if team_members is None or len(team_members) < 1:\n",
    "            continue\n",
    "        if (mask is not None) and (\"?\" not in mask) and (\"X\" not in mask):\n",
    "            collecting_result[\"tournament_id\"] = tournament_id\n",
    "            collecting_result[\"player_ids\"] = [team_member[\"player\"][\"id\"] for team_member in team_members]\n",
    "            collecting_result[\"mask\"] = list(map(int, mask))\n",
    "            collecting_result[\"team_id\"] = result[\"team\"][\"id\"]\n",
    "            data_results_collection.append(collecting_result)\n",
    "            question_ids.extend([str(tournament_id) + \".\" + str(i) for i in range(len(mask))])\n",
    "            player_ids.extend(collecting_result[\"player_ids\"])\n",
    "    return data_results_collection, question_ids, player_ids"
   ]
  },
  {
   "cell_type": "code",
   "execution_count": 50,
   "id": "310b79ec",
   "metadata": {},
   "outputs": [],
   "source": [
    "train_data_results = []\n",
    "test_data_results = []\n",
    "train_question_ids = []\n",
    "train_player_ids = []\n",
    "\n",
    "train_data_tournaments = dict()\n",
    "test_data_tournaments = dict()\n",
    "\n",
    "for tournament_id in data_tournaments.keys():\n",
    "    date_start = data_tournaments[tournament_id].get(\"dateStart\")\n",
    "    if date_start:\n",
    "        year_start = pd.to_datetime(date_start).year\n",
    "        if TRAIN_YEAR == year_start:\n",
    "            data_results_collection, question_ids, player_ids = collect_data_result(tournament_id)\n",
    "            train_data_results.extend(data_results_collection)\n",
    "            train_data_tournaments[tournament_id] = data_tournaments[tournament_id]\n",
    "            train_question_ids.extend(question_ids)\n",
    "            train_player_ids.extend(player_ids)\n",
    "                \n",
    "        if TEST_YEAR == year_start:\n",
    "            data_results_collection, _, _ = collect_data_result(tournament_id)\n",
    "            test_data_results.extend(data_results_collection)\n",
    "            test_data_tournaments[tournament_id] = data_tournaments[tournament_id]\n",
    "\n",
    "train_question_ids = np.array(train_question_ids)\n",
    "train_player_ids = np.unique(train_player_ids)"
   ]
  },
  {
   "cell_type": "code",
   "execution_count": 51,
   "id": "c021cc38",
   "metadata": {},
   "outputs": [
    {
     "name": "stdout",
     "output_type": "stream",
     "text": [
      "Train size: 687\n",
      "Test size: 418\n"
     ]
    }
   ],
   "source": [
    "print(\"Train size:\", len(train_data_tournaments))\n",
    "print(\"Test size:\", len(test_data_tournaments))"
   ]
  },
  {
   "cell_type": "markdown",
   "id": "7bf28967",
   "metadata": {},
   "source": [
    "# Task 2"
   ]
  },
  {
   "cell_type": "markdown",
   "id": "d61176a5",
   "metadata": {},
   "source": [
    "2. Постройте baseline-модель на основе линейной или логистической регрессии, которая будет обучать рейтинг-лист игроков. Замечания и подсказки:\n",
    "* повопросные результаты — это фактически результаты броска монетки, и их предсказание скорее всего имеет отношение к бинарной классификации;\n",
    "* в разных турнирах вопросы совсем разного уровня сложности, поэтому модель должна это учитывать; скорее всего, модель должна будет явно обучать не только силу каждого игрока, но и сложность каждого вопроса;\n",
    "* для baseline-модели можно забыть о командах и считать, что повопросные результаты команды просто относятся к каждому из её игроков."
   ]
  },
  {
   "cell_type": "code",
   "execution_count": 52,
   "id": "073a941f",
   "metadata": {},
   "outputs": [
    {
     "data": {
      "text/plain": [
       "{'id': 4772,\n",
       " 'name': 'Синхрон северных стран. Зимний выпуск',\n",
       " 'dateStart': '2019-01-05T19:00:00+03:00',\n",
       " 'dateEnd': '2019-01-09T19:00:00+03:00',\n",
       " 'type': {'id': 3, 'name': 'Синхрон'},\n",
       " 'season': '/seasons/52',\n",
       " 'orgcommittee': [{'id': 28379,\n",
       "   'name': 'Константин',\n",
       "   'patronymic': 'Владимирович',\n",
       "   'surname': 'Сахаров'}],\n",
       " 'synchData': {'dateRequestsAllowedTo': '2019-01-09T23:59:59+03:00',\n",
       "  'resultFixesTo': '2019-01-19T23:59:59+03:00',\n",
       "  'resultsRecapsTo': '2019-01-11T23:59:59+03:00',\n",
       "  'allowAppealCancel': True,\n",
       "  'allowNarratorErrorAppeal': False,\n",
       "  'dateArchivedAt': '2019-01-26T23:59:59+03:00',\n",
       "  'dateDownloadQuestionsFrom': '2019-01-04T00:00:00+03:00',\n",
       "  'dateDownloadQuestionsTo': '2019-01-09T19:00:00+03:00',\n",
       "  'hideQuestionsTo': '2019-01-09T23:59:59+03:00',\n",
       "  'hideResultsTo': '2019-01-09T23:59:59+03:00',\n",
       "  'allVerdictsDone': None,\n",
       "  'instantControversial': True},\n",
       " 'questionQty': {'1': 12, '2': 12, '3': 12}}"
      ]
     },
     "execution_count": 52,
     "metadata": {},
     "output_type": "execute_result"
    }
   ],
   "source": [
    "train_data_tournaments[4772]"
   ]
  },
  {
   "cell_type": "code",
   "execution_count": 55,
   "id": "7638720e",
   "metadata": {},
   "outputs": [
    {
     "data": {
      "text/plain": [
       "{'tournament_id': 4772,\n",
       " 'player_ids': [106582, 174472, 185941, 188948],\n",
       " 'mask': [1,\n",
       "  0,\n",
       "  0,\n",
       "  0,\n",
       "  0,\n",
       "  0,\n",
       "  1,\n",
       "  0,\n",
       "  0,\n",
       "  0,\n",
       "  0,\n",
       "  0,\n",
       "  1,\n",
       "  0,\n",
       "  0,\n",
       "  0,\n",
       "  0,\n",
       "  0,\n",
       "  0,\n",
       "  0,\n",
       "  1,\n",
       "  0,\n",
       "  0,\n",
       "  0,\n",
       "  0,\n",
       "  0,\n",
       "  0,\n",
       "  0,\n",
       "  0,\n",
       "  0,\n",
       "  0,\n",
       "  0,\n",
       "  0,\n",
       "  0,\n",
       "  0,\n",
       "  0],\n",
       " 'team_id': 68319}"
      ]
     },
     "execution_count": 55,
     "metadata": {},
     "output_type": "execute_result"
    }
   ],
   "source": [
    "train_data_results[0]"
   ]
  },
  {
   "cell_type": "code",
   "execution_count": 56,
   "id": "fc84f26a",
   "metadata": {},
   "outputs": [],
   "source": [
    "players_ohe = OneHotEncoder().fit(train_player_ids.reshape(-1, 1))\n",
    "questions_ohe = OneHotEncoder().fit(train_question_ids.reshape(-1, 1))"
   ]
  },
  {
   "cell_type": "code",
   "execution_count": 57,
   "id": "99ef7fe8",
   "metadata": {},
   "outputs": [
    {
     "data": {
      "application/vnd.jupyter.widget-view+json": {
       "model_id": "e61ec2bd317e4a438825fff97e3b9e00",
       "version_major": 2,
       "version_minor": 0
      },
      "text/plain": [
       "  0%|          | 0/73399 [00:00<?, ?it/s]"
      ]
     },
     "metadata": {},
     "output_type": "display_data"
    },
    {
     "ename": "KeyboardInterrupt",
     "evalue": "",
     "output_type": "error",
     "traceback": [
      "\u001b[1;31m---------------------------------------------------------------------------\u001b[0m",
      "\u001b[1;31mKeyboardInterrupt\u001b[0m                         Traceback (most recent call last)",
      "\u001b[1;32m<ipython-input-57-a7ddb0b0b429>\u001b[0m in \u001b[0;36m<module>\u001b[1;34m\u001b[0m\n\u001b[0;32m     10\u001b[0m     \u001b[0mx_players_train_ohe\u001b[0m \u001b[1;33m=\u001b[0m \u001b[0mplayers_ohe\u001b[0m\u001b[1;33m.\u001b[0m\u001b[0mtransform\u001b[0m\u001b[1;33m(\u001b[0m\u001b[0mx_players_train\u001b[0m\u001b[1;33m)\u001b[0m\u001b[1;33m\u001b[0m\u001b[1;33m\u001b[0m\u001b[0m\n\u001b[0;32m     11\u001b[0m     \u001b[0mx_questions_train\u001b[0m \u001b[1;33m=\u001b[0m \u001b[0mnp\u001b[0m\u001b[1;33m.\u001b[0m\u001b[0mtile\u001b[0m\u001b[1;33m(\u001b[0m\u001b[0mquestion_ids\u001b[0m\u001b[1;33m,\u001b[0m \u001b[0mlen\u001b[0m\u001b[1;33m(\u001b[0m\u001b[0mplayer_ids\u001b[0m\u001b[1;33m)\u001b[0m\u001b[1;33m)\u001b[0m\u001b[1;33m.\u001b[0m\u001b[0mreshape\u001b[0m\u001b[1;33m(\u001b[0m\u001b[1;33m-\u001b[0m\u001b[1;36m1\u001b[0m\u001b[1;33m,\u001b[0m \u001b[1;36m1\u001b[0m\u001b[1;33m)\u001b[0m\u001b[1;33m\u001b[0m\u001b[1;33m\u001b[0m\u001b[0m\n\u001b[1;32m---> 12\u001b[1;33m     \u001b[0mx_questions_train_ohe\u001b[0m \u001b[1;33m=\u001b[0m \u001b[0mquestions_ohe\u001b[0m\u001b[1;33m.\u001b[0m\u001b[0mtransform\u001b[0m\u001b[1;33m(\u001b[0m\u001b[0mx_questions_train\u001b[0m\u001b[1;33m)\u001b[0m\u001b[1;33m\u001b[0m\u001b[1;33m\u001b[0m\u001b[0m\n\u001b[0m\u001b[0;32m     13\u001b[0m     \u001b[0my_train\u001b[0m\u001b[1;33m.\u001b[0m\u001b[0mappend\u001b[0m\u001b[1;33m(\u001b[0m\u001b[0mnp\u001b[0m\u001b[1;33m.\u001b[0m\u001b[0mtile\u001b[0m\u001b[1;33m(\u001b[0m\u001b[0mmask\u001b[0m\u001b[1;33m,\u001b[0m \u001b[0mlen\u001b[0m\u001b[1;33m(\u001b[0m\u001b[0mplayer_ids\u001b[0m\u001b[1;33m)\u001b[0m\u001b[1;33m)\u001b[0m\u001b[1;33m.\u001b[0m\u001b[0mreshape\u001b[0m\u001b[1;33m(\u001b[0m\u001b[1;33m-\u001b[0m\u001b[1;36m1\u001b[0m\u001b[1;33m,\u001b[0m \u001b[1;36m1\u001b[0m\u001b[1;33m)\u001b[0m\u001b[1;33m)\u001b[0m\u001b[1;33m\u001b[0m\u001b[1;33m\u001b[0m\u001b[0m\n\u001b[0;32m     14\u001b[0m     \u001b[0mx_train\u001b[0m\u001b[1;33m.\u001b[0m\u001b[0mappend\u001b[0m\u001b[1;33m(\u001b[0m\u001b[0mhstack\u001b[0m\u001b[1;33m(\u001b[0m\u001b[1;33m[\u001b[0m\u001b[0mx_players_train_ohe\u001b[0m\u001b[1;33m,\u001b[0m \u001b[0mx_questions_train_ohe\u001b[0m\u001b[1;33m]\u001b[0m\u001b[1;33m)\u001b[0m\u001b[1;33m)\u001b[0m\u001b[1;33m\u001b[0m\u001b[1;33m\u001b[0m\u001b[0m\n",
      "\u001b[1;32mD:\\Anaconda3\\lib\\site-packages\\sklearn\\preprocessing\\_encoders.py\u001b[0m in \u001b[0;36mtransform\u001b[1;34m(self, X)\u001b[0m\n\u001b[0;32m    459\u001b[0m         \u001b[0mcheck_is_fitted\u001b[0m\u001b[1;33m(\u001b[0m\u001b[0mself\u001b[0m\u001b[1;33m)\u001b[0m\u001b[1;33m\u001b[0m\u001b[1;33m\u001b[0m\u001b[0m\n\u001b[0;32m    460\u001b[0m         \u001b[1;31m# validation of X happens in _check_X called by _transform\u001b[0m\u001b[1;33m\u001b[0m\u001b[1;33m\u001b[0m\u001b[1;33m\u001b[0m\u001b[0m\n\u001b[1;32m--> 461\u001b[1;33m         X_int, X_mask = self._transform(X, handle_unknown=self.handle_unknown,\n\u001b[0m\u001b[0;32m    462\u001b[0m                                         force_all_finite='allow-nan')\n\u001b[0;32m    463\u001b[0m \u001b[1;33m\u001b[0m\u001b[0m\n",
      "\u001b[1;32mD:\\Anaconda3\\lib\\site-packages\\sklearn\\preprocessing\\_encoders.py\u001b[0m in \u001b[0;36m_transform\u001b[1;34m(self, X, handle_unknown, force_all_finite)\u001b[0m\n\u001b[0;32m    127\u001b[0m         \u001b[1;32mfor\u001b[0m \u001b[0mi\u001b[0m \u001b[1;32min\u001b[0m \u001b[0mrange\u001b[0m\u001b[1;33m(\u001b[0m\u001b[0mn_features\u001b[0m\u001b[1;33m)\u001b[0m\u001b[1;33m:\u001b[0m\u001b[1;33m\u001b[0m\u001b[1;33m\u001b[0m\u001b[0m\n\u001b[0;32m    128\u001b[0m             \u001b[0mXi\u001b[0m \u001b[1;33m=\u001b[0m \u001b[0mX_list\u001b[0m\u001b[1;33m[\u001b[0m\u001b[0mi\u001b[0m\u001b[1;33m]\u001b[0m\u001b[1;33m\u001b[0m\u001b[1;33m\u001b[0m\u001b[0m\n\u001b[1;32m--> 129\u001b[1;33m             diff, valid_mask = _check_unknown(Xi, self.categories_[i],\n\u001b[0m\u001b[0;32m    130\u001b[0m                                               return_mask=True)\n\u001b[0;32m    131\u001b[0m \u001b[1;33m\u001b[0m\u001b[0m\n",
      "\u001b[1;32mD:\\Anaconda3\\lib\\site-packages\\sklearn\\utils\\_encode.py\u001b[0m in \u001b[0;36m_check_unknown\u001b[1;34m(values, known_values, return_mask)\u001b[0m\n\u001b[0;32m    220\u001b[0m \u001b[1;33m\u001b[0m\u001b[0m\n\u001b[0;32m    221\u001b[0m         \u001b[0muniques_set\u001b[0m \u001b[1;33m=\u001b[0m \u001b[0mset\u001b[0m\u001b[1;33m(\u001b[0m\u001b[0mknown_values\u001b[0m\u001b[1;33m)\u001b[0m\u001b[1;33m\u001b[0m\u001b[1;33m\u001b[0m\u001b[0m\n\u001b[1;32m--> 222\u001b[1;33m         \u001b[0muniques_set\u001b[0m\u001b[1;33m,\u001b[0m \u001b[0mmissing_in_uniques\u001b[0m \u001b[1;33m=\u001b[0m \u001b[0m_extract_missing\u001b[0m\u001b[1;33m(\u001b[0m\u001b[0muniques_set\u001b[0m\u001b[1;33m)\u001b[0m\u001b[1;33m\u001b[0m\u001b[1;33m\u001b[0m\u001b[0m\n\u001b[0m\u001b[0;32m    223\u001b[0m         \u001b[0mdiff\u001b[0m \u001b[1;33m=\u001b[0m \u001b[0mvalues_set\u001b[0m \u001b[1;33m-\u001b[0m \u001b[0muniques_set\u001b[0m\u001b[1;33m\u001b[0m\u001b[1;33m\u001b[0m\u001b[0m\n\u001b[0;32m    224\u001b[0m \u001b[1;33m\u001b[0m\u001b[0m\n",
      "\u001b[1;32mD:\\Anaconda3\\lib\\site-packages\\sklearn\\utils\\_encode.py\u001b[0m in \u001b[0;36m_extract_missing\u001b[1;34m(values)\u001b[0m\n\u001b[0;32m     82\u001b[0m         \u001b[0mObject\u001b[0m \u001b[1;32mwith\u001b[0m \u001b[0mmissing\u001b[0m \u001b[0mvalue\u001b[0m \u001b[0minformation\u001b[0m\u001b[1;33m.\u001b[0m\u001b[1;33m\u001b[0m\u001b[1;33m\u001b[0m\u001b[0m\n\u001b[0;32m     83\u001b[0m     \"\"\"\n\u001b[1;32m---> 84\u001b[1;33m     missing_values_set = {value for value in values\n\u001b[0m\u001b[0;32m     85\u001b[0m                           if value is None or is_scalar_nan(value)}\n\u001b[0;32m     86\u001b[0m \u001b[1;33m\u001b[0m\u001b[0m\n",
      "\u001b[1;32mD:\\Anaconda3\\lib\\site-packages\\sklearn\\utils\\_encode.py\u001b[0m in \u001b[0;36m<setcomp>\u001b[1;34m(.0)\u001b[0m\n\u001b[0;32m     83\u001b[0m     \"\"\"\n\u001b[0;32m     84\u001b[0m     missing_values_set = {value for value in values\n\u001b[1;32m---> 85\u001b[1;33m                           if value is None or is_scalar_nan(value)}\n\u001b[0m\u001b[0;32m     86\u001b[0m \u001b[1;33m\u001b[0m\u001b[0m\n\u001b[0;32m     87\u001b[0m     \u001b[1;32mif\u001b[0m \u001b[1;32mnot\u001b[0m \u001b[0mmissing_values_set\u001b[0m\u001b[1;33m:\u001b[0m\u001b[1;33m\u001b[0m\u001b[1;33m\u001b[0m\u001b[0m\n",
      "\u001b[1;32mD:\\Anaconda3\\lib\\site-packages\\sklearn\\utils\\__init__.py\u001b[0m in \u001b[0;36mis_scalar_nan\u001b[1;34m(x)\u001b[0m\n\u001b[0;32m    974\u001b[0m     \u001b[1;31m# convert from numpy.bool_ to python bool to ensure that testing\u001b[0m\u001b[1;33m\u001b[0m\u001b[1;33m\u001b[0m\u001b[1;33m\u001b[0m\u001b[0m\n\u001b[0;32m    975\u001b[0m     \u001b[1;31m# is_scalar_nan(x) is True does not fail.\u001b[0m\u001b[1;33m\u001b[0m\u001b[1;33m\u001b[0m\u001b[1;33m\u001b[0m\u001b[0m\n\u001b[1;32m--> 976\u001b[1;33m     \u001b[1;32mreturn\u001b[0m \u001b[0mbool\u001b[0m\u001b[1;33m(\u001b[0m\u001b[0misinstance\u001b[0m\u001b[1;33m(\u001b[0m\u001b[0mx\u001b[0m\u001b[1;33m,\u001b[0m \u001b[0mnumbers\u001b[0m\u001b[1;33m.\u001b[0m\u001b[0mReal\u001b[0m\u001b[1;33m)\u001b[0m \u001b[1;32mand\u001b[0m \u001b[0mnp\u001b[0m\u001b[1;33m.\u001b[0m\u001b[0misnan\u001b[0m\u001b[1;33m(\u001b[0m\u001b[0mx\u001b[0m\u001b[1;33m)\u001b[0m\u001b[1;33m)\u001b[0m\u001b[1;33m\u001b[0m\u001b[1;33m\u001b[0m\u001b[0m\n\u001b[0m\u001b[0;32m    977\u001b[0m \u001b[1;33m\u001b[0m\u001b[0m\n\u001b[0;32m    978\u001b[0m \u001b[1;33m\u001b[0m\u001b[0m\n",
      "\u001b[1;31mKeyboardInterrupt\u001b[0m: "
     ]
    }
   ],
   "source": [
    "x_train = []\n",
    "y_train = []\n",
    "\n",
    "for data_result in tqdm(train_data_results, total=len(train_data_results)):\n",
    "    tournament_id = data_result[\"tournament_id\"]\n",
    "    mask = data_result[\"mask\"]\n",
    "    player_ids = data_result[\"player_ids\"]\n",
    "    question_ids = [str(tournament_id) + \".\" + str(i) for i in range(len(mask))]\n",
    "    x_players_train = np.array([np.full((len(mask), ), _id) for _id in player_ids]).reshape(-1, 1)\n",
    "    x_players_train_ohe = players_ohe.transform(x_players_train)\n",
    "    x_questions_train = np.tile(question_ids, len(player_ids)).reshape(-1, 1)\n",
    "    x_questions_train_ohe = questions_ohe.transform(x_questions_train)\n",
    "    y_train.append(np.tile(mask, len(player_ids)).reshape(-1, 1))\n",
    "    x_train.append(hstack([x_players_train_ohe, x_questions_train_ohe]))"
   ]
  },
  {
   "cell_type": "code",
   "execution_count": null,
   "id": "1c044937",
   "metadata": {},
   "outputs": [],
   "source": []
  }
 ],
 "metadata": {
  "kernelspec": {
   "display_name": "Python 3",
   "language": "python",
   "name": "python3"
  },
  "language_info": {
   "codemirror_mode": {
    "name": "ipython",
    "version": 3
   },
   "file_extension": ".py",
   "mimetype": "text/x-python",
   "name": "python",
   "nbconvert_exporter": "python",
   "pygments_lexer": "ipython3",
   "version": "3.8.8"
  }
 },
 "nbformat": 4,
 "nbformat_minor": 5
}
