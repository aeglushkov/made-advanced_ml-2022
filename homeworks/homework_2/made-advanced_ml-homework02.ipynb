{
 "cells": [
  {
   "cell_type": "code",
   "execution_count": 1,
   "id": "660e7557",
   "metadata": {},
   "outputs": [],
   "source": [
    "import os\n",
    "import pickle\n",
    "\n",
    "import scipy\n",
    "import scipy.sparse\n",
    "from sklearn.preprocessing import OneHotEncoder\n",
    "from sklearn.linear_model import LogisticRegression\n",
    "from scipy.sparse import vstack, hstack\n",
    "import numpy as np\n",
    "import pandas as pd\n",
    "from tqdm.auto import tqdm"
   ]
  },
  {
   "cell_type": "markdown",
   "id": "2ca64b52",
   "metadata": {},
   "source": [
    "# Task 1"
   ]
  },
  {
   "cell_type": "markdown",
   "id": "bf48a797",
   "metadata": {},
   "source": [
    "1. Прочитайте и проанализируйте данные, выберите турниры, в которых есть данные о составах команд и повопросных результатах (поле mask в results.pkl). Для унификации предлагаю:\n",
    "* взять в тренировочный набор турниры с dateStart из 2019 года;\n",
    "* в тестовый — турниры с dateStart из 2020 года."
   ]
  },
  {
   "cell_type": "code",
   "execution_count": 2,
   "id": "48894e7a",
   "metadata": {},
   "outputs": [],
   "source": [
    "DATA_PLAYERS_FPATH = \"./data/players.pkl\"\n",
    "DATA_RESULTS_FPATH = \"./data/results.pkl\"\n",
    "DATA_TOURNAMENTS_FPATH = \"./data/tournaments.pkl\"\n",
    "TRAIN_YEAR = 2019\n",
    "TEST_YEAR = 2020"
   ]
  },
  {
   "cell_type": "code",
   "execution_count": 3,
   "id": "8e37f923",
   "metadata": {},
   "outputs": [],
   "source": [
    "def load_pickle(filepath: str):\n",
    "    with open(filepath, \"rb\") as f:\n",
    "        data = pickle.load(f)\n",
    "    return data"
   ]
  },
  {
   "cell_type": "code",
   "execution_count": 4,
   "id": "eb708258",
   "metadata": {},
   "outputs": [],
   "source": [
    "data_players = load_pickle(DATA_PLAYERS_FPATH)\n",
    "data_results = load_pickle(DATA_RESULTS_FPATH)\n",
    "data_tournaments = load_pickle(DATA_TOURNAMENTS_FPATH)"
   ]
  },
  {
   "cell_type": "code",
   "execution_count": 5,
   "id": "dcc8d8ab",
   "metadata": {},
   "outputs": [
    {
     "data": {
      "text/plain": [
       "{'id': 1, 'name': 'Алексей', 'patronymic': None, 'surname': 'Абабилов'}"
      ]
     },
     "execution_count": 5,
     "metadata": {},
     "output_type": "execute_result"
    }
   ],
   "source": [
    "data_players[1]"
   ]
  },
  {
   "cell_type": "code",
   "execution_count": 6,
   "id": "1ce67be3",
   "metadata": {
    "scrolled": false
   },
   "outputs": [
    {
     "data": {
      "text/plain": [
       "{'team': {'id': 242,\n",
       "  'name': 'Команда Азимова',\n",
       "  'town': {'id': 21, 'name': 'Баку'}},\n",
       " 'mask': None,\n",
       " 'current': {'name': 'Команда Азимова', 'town': {'id': 21, 'name': 'Баку'}},\n",
       " 'questionsTotal': 0,\n",
       " 'synchRequest': None,\n",
       " 'position': 1,\n",
       " 'controversials': [],\n",
       " 'flags': [],\n",
       " 'teamMembers': [{'flag': None,\n",
       "   'usedRating': 0,\n",
       "   'rating': 0,\n",
       "   'player': {'id': 476,\n",
       "    'name': 'Анар',\n",
       "    'patronymic': 'Беюкага оглы',\n",
       "    'surname': 'Азимов'}},\n",
       "  {'flag': None,\n",
       "   'usedRating': 0,\n",
       "   'rating': 0,\n",
       "   'player': {'id': 878,\n",
       "    'name': 'Фариз',\n",
       "    'patronymic': 'Наим оглы',\n",
       "    'surname': 'Аликишибеков'}},\n",
       "  {'flag': None,\n",
       "   'usedRating': 0,\n",
       "   'rating': 0,\n",
       "   'player': {'id': 1872,\n",
       "    'name': 'Аднан',\n",
       "    'patronymic': 'Фариз оглы',\n",
       "    'surname': 'Ахундов'}},\n",
       "  {'flag': None,\n",
       "   'usedRating': 0,\n",
       "   'rating': 0,\n",
       "   'player': {'id': 13721,\n",
       "    'name': 'Балаш',\n",
       "    'patronymic': 'Алекпер оглы',\n",
       "    'surname': 'Касумов'}},\n",
       "  {'flag': None,\n",
       "   'usedRating': 0,\n",
       "   'rating': 0,\n",
       "   'player': {'id': 22132,\n",
       "    'name': 'Анар',\n",
       "    'patronymic': 'Джафар оглы',\n",
       "    'surname': 'Наджафли'}},\n",
       "  {'flag': None,\n",
       "   'usedRating': 0,\n",
       "   'rating': 0,\n",
       "   'player': {'id': 22133,\n",
       "    'name': 'Рауф',\n",
       "    'patronymic': 'Джафар оглы',\n",
       "    'surname': 'Наджафли'}}]}"
      ]
     },
     "execution_count": 6,
     "metadata": {},
     "output_type": "execute_result"
    }
   ],
   "source": [
    "data_results[1][0]"
   ]
  },
  {
   "cell_type": "code",
   "execution_count": 7,
   "id": "855ee92e",
   "metadata": {},
   "outputs": [
    {
     "data": {
      "text/plain": [
       "{'id': 1,\n",
       " 'name': 'Чемпионат Южного Кавказа',\n",
       " 'dateStart': '2003-07-25T00:00:00+04:00',\n",
       " 'dateEnd': '2003-07-27T00:00:00+04:00',\n",
       " 'type': {'id': 2, 'name': 'Обычный'},\n",
       " 'season': '/seasons/1',\n",
       " 'orgcommittee': [],\n",
       " 'synchData': None,\n",
       " 'questionQty': None}"
      ]
     },
     "execution_count": 7,
     "metadata": {},
     "output_type": "execute_result"
    }
   ],
   "source": [
    "data_tournaments[1]"
   ]
  },
  {
   "cell_type": "code",
   "execution_count": 8,
   "id": "adf0d4a8",
   "metadata": {},
   "outputs": [
    {
     "name": "stdout",
     "output_type": "stream",
     "text": [
      "{'X', '1', '0', '?'}\n"
     ]
    }
   ],
   "source": [
    "s = set()\n",
    "for key in data_results.keys():\n",
    "    for result in data_results[key]:\n",
    "        mask = result.get(\"mask\")\n",
    "        if mask is not None:\n",
    "            s.update(set(mask))\n",
    "print(s)"
   ]
  },
  {
   "cell_type": "markdown",
   "id": "ecd82865",
   "metadata": {
    "pycharm": {
     "name": "#%%\n"
    }
   },
   "source": [
    "Sometimes mask includes not only \"0\" and \"1\" but also \"?\" and \"X\".\n",
    "\n",
    "I tried to skip this masks and not include in final statistic and just change \"?\" to 0 and \"X\" to \"\" that works better"
   ]
  },
  {
   "cell_type": "code",
   "execution_count": 9,
   "id": "369f6783",
   "metadata": {},
   "outputs": [],
   "source": [
    "def collect_data_result(tournament_id):\n",
    "    data_results_collection = []\n",
    "    question_ids = []\n",
    "    player_ids = []\n",
    "    for result in data_results[tournament_id]:\n",
    "        \n",
    "        collecting_result = dict()\n",
    "        mask = result.get(\"mask\")\n",
    "        team_members = result.get(\"teamMembers\")\n",
    "        # If we don't have information about team members just skip it\n",
    "        if team_members is None or len(team_members) < 1:\n",
    "            continue\n",
    "        if mask is not None:\n",
    "            mask = mask.replace(\"?\", \"0\")\n",
    "            mask = mask.replace(\"X\", \"\")\n",
    "            if mask == \"\":\n",
    "                continue\n",
    "            collecting_result[\"tournament_id\"] = tournament_id\n",
    "            collecting_result[\"position\"] = result[\"position\"]\n",
    "            collecting_result[\"player_ids\"] = [team_member[\"player\"][\"id\"] for team_member in team_members]\n",
    "            collecting_result[\"mask\"] = list(map(int, mask))\n",
    "            collecting_result[\"team_id\"] = result[\"team\"][\"id\"]\n",
    "            data_results_collection.append(collecting_result)\n",
    "            question_ids.extend([str(tournament_id) + \".\" + str(i) for i in range(len(mask))])\n",
    "            player_ids.extend(collecting_result[\"player_ids\"])\n",
    "    return data_results_collection, question_ids, player_ids"
   ]
  },
  {
   "cell_type": "code",
   "execution_count": 10,
   "id": "310b79ec",
   "metadata": {},
   "outputs": [],
   "source": [
    "train_data_results = []\n",
    "test_data_results = []\n",
    "train_question_ids = []\n",
    "train_player_ids = []\n",
    "\n",
    "train_data_tournaments = dict()\n",
    "test_data_tournaments = dict()\n",
    "\n",
    "for tournament_id in data_tournaments.keys():\n",
    "    date_start = data_tournaments[tournament_id].get(\"dateStart\")\n",
    "    if date_start:\n",
    "        year_start = pd.to_datetime(date_start).year\n",
    "        if TRAIN_YEAR == year_start:\n",
    "            data_results_collection, question_ids, player_ids = collect_data_result(tournament_id)\n",
    "            train_data_results.extend(data_results_collection)\n",
    "            train_data_tournaments[tournament_id] = data_tournaments[tournament_id]\n",
    "            train_question_ids.extend(question_ids)\n",
    "            train_player_ids.extend(player_ids)\n",
    "                \n",
    "        if TEST_YEAR == year_start:\n",
    "            data_results_collection, _, _ = collect_data_result(tournament_id)\n",
    "            test_data_results.extend(data_results_collection)\n",
    "            test_data_tournaments[tournament_id] = data_tournaments[tournament_id]\n",
    "\n",
    "train_question_ids = np.array(train_question_ids)\n",
    "train_player_ids = np.unique(train_player_ids)"
   ]
  },
  {
   "cell_type": "code",
   "execution_count": 11,
   "id": "c021cc38",
   "metadata": {},
   "outputs": [
    {
     "name": "stdout",
     "output_type": "stream",
     "text": [
      "Train size: 687\n",
      "Test size: 418\n"
     ]
    }
   ],
   "source": [
    "print(\"Train size:\", len(train_data_tournaments))\n",
    "print(\"Test size:\", len(test_data_tournaments))"
   ]
  },
  {
   "cell_type": "markdown",
   "id": "7bf28967",
   "metadata": {},
   "source": [
    "# Task 2"
   ]
  },
  {
   "cell_type": "markdown",
   "id": "d61176a5",
   "metadata": {},
   "source": [
    "2. Постройте baseline-модель на основе линейной или логистической регрессии, которая будет обучать рейтинг-лист игроков. Замечания и подсказки:\n",
    "* повопросные результаты — это фактически результаты броска монетки, и их предсказание скорее всего имеет отношение к бинарной классификации;\n",
    "* в разных турнирах вопросы совсем разного уровня сложности, поэтому модель должна это учитывать; скорее всего, модель должна будет явно обучать не только силу каждого игрока, но и сложность каждого вопроса;\n",
    "* для baseline-модели можно забыть о командах и считать, что повопросные результаты команды просто относятся к каждому из её игроков."
   ]
  },
  {
   "cell_type": "code",
   "execution_count": 12,
   "id": "073a941f",
   "metadata": {},
   "outputs": [
    {
     "data": {
      "text/plain": [
       "{'id': 4772,\n",
       " 'name': 'Синхрон северных стран. Зимний выпуск',\n",
       " 'dateStart': '2019-01-05T19:00:00+03:00',\n",
       " 'dateEnd': '2019-01-09T19:00:00+03:00',\n",
       " 'type': {'id': 3, 'name': 'Синхрон'},\n",
       " 'season': '/seasons/52',\n",
       " 'orgcommittee': [{'id': 28379,\n",
       "   'name': 'Константин',\n",
       "   'patronymic': 'Владимирович',\n",
       "   'surname': 'Сахаров'}],\n",
       " 'synchData': {'dateRequestsAllowedTo': '2019-01-09T23:59:59+03:00',\n",
       "  'resultFixesTo': '2019-01-19T23:59:59+03:00',\n",
       "  'resultsRecapsTo': '2019-01-11T23:59:59+03:00',\n",
       "  'allowAppealCancel': True,\n",
       "  'allowNarratorErrorAppeal': False,\n",
       "  'dateArchivedAt': '2019-01-26T23:59:59+03:00',\n",
       "  'dateDownloadQuestionsFrom': '2019-01-04T00:00:00+03:00',\n",
       "  'dateDownloadQuestionsTo': '2019-01-09T19:00:00+03:00',\n",
       "  'hideQuestionsTo': '2019-01-09T23:59:59+03:00',\n",
       "  'hideResultsTo': '2019-01-09T23:59:59+03:00',\n",
       "  'allVerdictsDone': None,\n",
       "  'instantControversial': True},\n",
       " 'questionQty': {'1': 12, '2': 12, '3': 12}}"
      ]
     },
     "execution_count": 12,
     "metadata": {},
     "output_type": "execute_result"
    }
   ],
   "source": [
    "train_data_tournaments[4772]"
   ]
  },
  {
   "cell_type": "code",
   "execution_count": 19,
   "id": "7638720e",
   "metadata": {},
   "outputs": [
    {
     "data": {
      "text/plain": [
       "{'tournament_id': 4772,\n",
       " 'position': 1,\n",
       " 'player_ids': [6212, 18332, 18036, 22799, 15456, 26089],\n",
       " 'mask': [1,\n",
       "  1,\n",
       "  1,\n",
       "  1,\n",
       "  1,\n",
       "  1,\n",
       "  1,\n",
       "  1,\n",
       "  1,\n",
       "  0,\n",
       "  1,\n",
       "  1,\n",
       "  1,\n",
       "  1,\n",
       "  1,\n",
       "  1,\n",
       "  1,\n",
       "  0,\n",
       "  1,\n",
       "  1,\n",
       "  1,\n",
       "  1,\n",
       "  1,\n",
       "  1,\n",
       "  1,\n",
       "  1,\n",
       "  1,\n",
       "  1,\n",
       "  0,\n",
       "  0,\n",
       "  0,\n",
       "  1,\n",
       "  0,\n",
       "  0,\n",
       "  1,\n",
       "  0],\n",
       " 'team_id': 45556}"
      ]
     },
     "execution_count": 19,
     "metadata": {},
     "output_type": "execute_result"
    }
   ],
   "source": [
    "train_data_results[0]"
   ]
  },
  {
   "cell_type": "code",
   "execution_count": 20,
   "id": "fc84f26a",
   "metadata": {},
   "outputs": [],
   "source": [
    "players_ohe = OneHotEncoder().fit(train_player_ids.reshape(-1, 1))\n",
    "questions_ohe = OneHotEncoder().fit(train_question_ids.reshape(-1, 1))"
   ]
  },
  {
   "cell_type": "code",
   "execution_count": 21,
   "id": "896c0e01",
   "metadata": {},
   "outputs": [],
   "source": [
    "def get_training_data():\n",
    "    x_train = []\n",
    "    y_train = []\n",
    "\n",
    "    for data_result in tqdm(train_data_results, total=len(train_data_results)):\n",
    "        tournament_id = data_result[\"tournament_id\"]\n",
    "        mask = data_result[\"mask\"]\n",
    "        player_ids = data_result[\"player_ids\"]\n",
    "        question_ids = [str(tournament_id) + \".\" + str(i) for i in range(len(mask))]\n",
    "        x_players_train = np.array([np.full((len(mask), ), _id) for _id in player_ids]).reshape(-1, 1)\n",
    "        x_players_train_ohe = players_ohe.transform(x_players_train)\n",
    "        x_questions_train = np.tile(question_ids, len(player_ids)).reshape(-1, 1)\n",
    "        x_questions_train_ohe = questions_ohe.transform(x_questions_train)\n",
    "        y_train.append(np.tile(mask, len(player_ids)).reshape(-1, 1))\n",
    "        x_train.append(hstack([x_players_train_ohe, x_questions_train_ohe]))\n",
    "\n",
    "    x_train_final = vstack(x_train)\n",
    "    y_train_final = np.vstack(y_train)\n",
    "    \n",
    "    return x_train_final, y_train_final\n",
    "\n",
    "\n",
    "def save_training_data(data, filepath, is_sparse=False):\n",
    "    if is_sparse:\n",
    "        scipy.sparse.save_npz(filepath, data)\n",
    "    else:\n",
    "        np.save(filepath, data)\n",
    "\n",
    "        \n",
    "def load_training_data(filepath, is_sparse=False):\n",
    "    if is_sparse:\n",
    "        return scipy.sparse.load_npz(filepath)\n",
    "    return np.load(filepath)"
   ]
  },
  {
   "cell_type": "code",
   "execution_count": 22,
   "id": "99ef7fe8",
   "metadata": {},
   "outputs": [
    {
     "data": {
      "application/vnd.jupyter.widget-view+json": {
       "model_id": "c34f703fcf384f6192aa49b3464aad89",
       "version_major": 2,
       "version_minor": 0
      },
      "text/plain": [
       "  0%|          | 0/86395 [00:00<?, ?it/s]"
      ]
     },
     "metadata": {},
     "output_type": "display_data"
    }
   ],
   "source": [
    "# # Getting data dor training\n",
    "# # It takes a lot of time to calculate (~ 1 hour), so I saved the result and will load it\n",
    "# x_train, y_train = get_training_data()"
   ]
  },
  {
   "cell_type": "code",
   "execution_count": 24,
   "id": "58924776",
   "metadata": {
    "pycharm": {
     "name": "#%%\n"
    }
   },
   "outputs": [],
   "source": [
    "# # Saving data\n",
    "# # I already saved my data, so I just skipped this step\n",
    "\n",
    "X_TRAIN_FPATH = \"./data/x_train.npz\"\n",
    "Y_TRAIN_FPATH = \"./data/y_train.npy\"\n",
    "\n",
    "# save_training_data(data=x_train, filepath=X_TRAIN_FPATH, is_sparse=True)\n",
    "# save_training_data(data=y_train, filepath=Y_TRAIN_FPATH, is_sparse=False)"
   ]
  },
  {
   "cell_type": "code",
   "execution_count": 25,
   "id": "bbca3188",
   "metadata": {},
   "outputs": [],
   "source": [
    "# Load saved training data\n",
    "x_train = load_training_data(X_TRAIN_FPATH, is_sparse=True) \n",
    "y_train = load_training_data(Y_TRAIN_FPATH, is_sparse=False) "
   ]
  },
  {
   "cell_type": "code",
   "execution_count": 26,
   "id": "30c4daea",
   "metadata": {
    "pycharm": {
     "name": "#%%\n"
    }
   },
   "outputs": [
    {
     "data": {
      "text/plain": [
       "LogisticRegression(solver='saga')"
      ]
     },
     "execution_count": 26,
     "metadata": {},
     "output_type": "execute_result"
    }
   ],
   "source": [
    "model_log_reg = LogisticRegression(solver='saga')\n",
    "model_log_reg.fit(x_train, y_train.ravel())"
   ]
  },
  {
   "cell_type": "code",
   "execution_count": 27,
   "id": "52a46357",
   "metadata": {
    "pycharm": {
     "name": "#%%\n"
    }
   },
   "outputs": [
    {
     "data": {
      "text/html": [
       "<div>\n",
       "<style scoped>\n",
       "    .dataframe tbody tr th:only-of-type {\n",
       "        vertical-align: middle;\n",
       "    }\n",
       "\n",
       "    .dataframe tbody tr th {\n",
       "        vertical-align: top;\n",
       "    }\n",
       "\n",
       "    .dataframe thead th {\n",
       "        text-align: right;\n",
       "    }\n",
       "</style>\n",
       "<table border=\"1\" class=\"dataframe\">\n",
       "  <thead>\n",
       "    <tr style=\"text-align: right;\">\n",
       "      <th></th>\n",
       "      <th>index</th>\n",
       "      <th>id</th>\n",
       "      <th>rating</th>\n",
       "    </tr>\n",
       "  </thead>\n",
       "  <tbody>\n",
       "    <tr>\n",
       "      <th>0</th>\n",
       "      <td>3887</td>\n",
       "      <td>27403</td>\n",
       "      <td>4.101367</td>\n",
       "    </tr>\n",
       "    <tr>\n",
       "      <th>1</th>\n",
       "      <td>609</td>\n",
       "      <td>4270</td>\n",
       "      <td>3.974395</td>\n",
       "    </tr>\n",
       "    <tr>\n",
       "      <th>2</th>\n",
       "      <td>4078</td>\n",
       "      <td>28751</td>\n",
       "      <td>3.948218</td>\n",
       "    </tr>\n",
       "    <tr>\n",
       "      <th>3</th>\n",
       "      <td>4268</td>\n",
       "      <td>30152</td>\n",
       "      <td>3.771895</td>\n",
       "    </tr>\n",
       "    <tr>\n",
       "      <th>4</th>\n",
       "      <td>3960</td>\n",
       "      <td>27822</td>\n",
       "      <td>3.766546</td>\n",
       "    </tr>\n",
       "  </tbody>\n",
       "</table>\n",
       "</div>"
      ],
      "text/plain": [
       "   index     id    rating\n",
       "0   3887  27403  4.101367\n",
       "1    609   4270  3.974395\n",
       "2   4078  28751  3.948218\n",
       "3   4268  30152  3.771895\n",
       "4   3960  27822  3.766546"
      ]
     },
     "execution_count": 27,
     "metadata": {},
     "output_type": "execute_result"
    }
   ],
   "source": [
    "df_results = pd.DataFrame(\n",
    "    {\n",
    "        'id': sorted(train_player_ids),\n",
    "        'rating': model_log_reg.coef_[0][:len(train_player_ids)]\n",
    "    }\n",
    ")\n",
    "df_results.sort_values(\"rating\", ascending=False).reset_index().head()"
   ]
  },
  {
   "cell_type": "code",
   "execution_count": 28,
   "id": "86becc56",
   "metadata": {},
   "outputs": [
    {
     "name": "stdout",
     "output_type": "stream",
     "text": [
      "Top 10 players\n"
     ]
    },
    {
     "data": {
      "text/html": [
       "<div>\n",
       "<style scoped>\n",
       "    .dataframe tbody tr th:only-of-type {\n",
       "        vertical-align: middle;\n",
       "    }\n",
       "\n",
       "    .dataframe tbody tr th {\n",
       "        vertical-align: top;\n",
       "    }\n",
       "\n",
       "    .dataframe thead th {\n",
       "        text-align: right;\n",
       "    }\n",
       "</style>\n",
       "<table border=\"1\" class=\"dataframe\">\n",
       "  <thead>\n",
       "    <tr style=\"text-align: right;\">\n",
       "      <th></th>\n",
       "      <th>id</th>\n",
       "      <th>name</th>\n",
       "      <th>patronymic</th>\n",
       "      <th>surname</th>\n",
       "      <th>rating</th>\n",
       "    </tr>\n",
       "  </thead>\n",
       "  <tbody>\n",
       "    <tr>\n",
       "      <th>0</th>\n",
       "      <td>27403</td>\n",
       "      <td>Максим</td>\n",
       "      <td>Михайлович</td>\n",
       "      <td>Руссо</td>\n",
       "      <td>4.101367</td>\n",
       "    </tr>\n",
       "    <tr>\n",
       "      <th>1</th>\n",
       "      <td>4270</td>\n",
       "      <td>Александра</td>\n",
       "      <td>Владимировна</td>\n",
       "      <td>Брутер</td>\n",
       "      <td>3.974395</td>\n",
       "    </tr>\n",
       "    <tr>\n",
       "      <th>2</th>\n",
       "      <td>28751</td>\n",
       "      <td>Иван</td>\n",
       "      <td>Николаевич</td>\n",
       "      <td>Семушин</td>\n",
       "      <td>3.948218</td>\n",
       "    </tr>\n",
       "    <tr>\n",
       "      <th>3</th>\n",
       "      <td>30152</td>\n",
       "      <td>Артём</td>\n",
       "      <td>Сергеевич</td>\n",
       "      <td>Сорожкин</td>\n",
       "      <td>3.771895</td>\n",
       "    </tr>\n",
       "    <tr>\n",
       "      <th>4</th>\n",
       "      <td>27822</td>\n",
       "      <td>Михаил</td>\n",
       "      <td>Владимирович</td>\n",
       "      <td>Савченков</td>\n",
       "      <td>3.766546</td>\n",
       "    </tr>\n",
       "    <tr>\n",
       "      <th>5</th>\n",
       "      <td>30270</td>\n",
       "      <td>Сергей</td>\n",
       "      <td>Леонидович</td>\n",
       "      <td>Спешков</td>\n",
       "      <td>3.763140</td>\n",
       "    </tr>\n",
       "    <tr>\n",
       "      <th>6</th>\n",
       "      <td>20691</td>\n",
       "      <td>Станислав</td>\n",
       "      <td>Григорьевич</td>\n",
       "      <td>Мереминский</td>\n",
       "      <td>3.620690</td>\n",
       "    </tr>\n",
       "    <tr>\n",
       "      <th>7</th>\n",
       "      <td>18036</td>\n",
       "      <td>Михаил</td>\n",
       "      <td>Ильич</td>\n",
       "      <td>Левандовский</td>\n",
       "      <td>3.617614</td>\n",
       "    </tr>\n",
       "    <tr>\n",
       "      <th>8</th>\n",
       "      <td>26089</td>\n",
       "      <td>Ирина</td>\n",
       "      <td>Сергеевна</td>\n",
       "      <td>Прокофьева</td>\n",
       "      <td>3.572056</td>\n",
       "    </tr>\n",
       "    <tr>\n",
       "      <th>9</th>\n",
       "      <td>22799</td>\n",
       "      <td>Сергей</td>\n",
       "      <td>Игоревич</td>\n",
       "      <td>Николенко</td>\n",
       "      <td>3.566262</td>\n",
       "    </tr>\n",
       "  </tbody>\n",
       "</table>\n",
       "</div>"
      ],
      "text/plain": [
       "      id        name    patronymic       surname    rating\n",
       "0  27403      Максим    Михайлович         Руссо  4.101367\n",
       "1   4270  Александра  Владимировна        Брутер  3.974395\n",
       "2  28751        Иван    Николаевич       Семушин  3.948218\n",
       "3  30152       Артём     Сергеевич      Сорожкин  3.771895\n",
       "4  27822      Михаил  Владимирович     Савченков  3.766546\n",
       "5  30270      Сергей    Леонидович       Спешков  3.763140\n",
       "6  20691   Станислав   Григорьевич   Мереминский  3.620690\n",
       "7  18036      Михаил         Ильич  Левандовский  3.617614\n",
       "8  26089       Ирина     Сергеевна    Прокофьева  3.572056\n",
       "9  22799      Сергей      Игоревич     Николенко  3.566262"
      ]
     },
     "execution_count": 28,
     "metadata": {},
     "output_type": "execute_result"
    }
   ],
   "source": [
    "top_k = 10\n",
    "df_players = pd.DataFrame(data_players.values())\n",
    "df_player_rating = pd.merge(df_players, df_results).sort_values(\"rating\", ascending=False).reset_index()\n",
    "df_player_rating.drop(columns=\"index\", inplace=True)\n",
    "print(f\"Top {top_k} players\")\n",
    "df_player_rating.head(top_k)"
   ]
  },
  {
   "cell_type": "code",
   "execution_count": 29,
   "id": "8b1f36c7",
   "metadata": {},
   "outputs": [
    {
     "name": "stdout",
     "output_type": "stream",
     "text": [
      "Last 10 players (according to the model)\n"
     ]
    },
    {
     "data": {
      "text/html": [
       "<div>\n",
       "<style scoped>\n",
       "    .dataframe tbody tr th:only-of-type {\n",
       "        vertical-align: middle;\n",
       "    }\n",
       "\n",
       "    .dataframe tbody tr th {\n",
       "        vertical-align: top;\n",
       "    }\n",
       "\n",
       "    .dataframe thead th {\n",
       "        text-align: right;\n",
       "    }\n",
       "</style>\n",
       "<table border=\"1\" class=\"dataframe\">\n",
       "  <thead>\n",
       "    <tr style=\"text-align: right;\">\n",
       "      <th></th>\n",
       "      <th>id</th>\n",
       "      <th>name</th>\n",
       "      <th>patronymic</th>\n",
       "      <th>surname</th>\n",
       "      <th>rating</th>\n",
       "    </tr>\n",
       "  </thead>\n",
       "  <tbody>\n",
       "    <tr>\n",
       "      <th>59091</th>\n",
       "      <td>207702</td>\n",
       "      <td>Дарья</td>\n",
       "      <td>Александровна</td>\n",
       "      <td>Безъязыкова</td>\n",
       "      <td>-3.988907</td>\n",
       "    </tr>\n",
       "    <tr>\n",
       "      <th>59092</th>\n",
       "      <td>207707</td>\n",
       "      <td>Антон</td>\n",
       "      <td>Денисович</td>\n",
       "      <td>Сычкин</td>\n",
       "      <td>-3.988911</td>\n",
       "    </tr>\n",
       "    <tr>\n",
       "      <th>59093</th>\n",
       "      <td>207704</td>\n",
       "      <td>Анастасия</td>\n",
       "      <td>Михайловна</td>\n",
       "      <td>Ильина</td>\n",
       "      <td>-3.988914</td>\n",
       "    </tr>\n",
       "    <tr>\n",
       "      <th>59094</th>\n",
       "      <td>207705</td>\n",
       "      <td>Кристина</td>\n",
       "      <td>Александровна</td>\n",
       "      <td>Малыгина</td>\n",
       "      <td>-3.988914</td>\n",
       "    </tr>\n",
       "    <tr>\n",
       "      <th>59095</th>\n",
       "      <td>207703</td>\n",
       "      <td>Дарья</td>\n",
       "      <td>Александровна</td>\n",
       "      <td>Петрушова</td>\n",
       "      <td>-3.988920</td>\n",
       "    </tr>\n",
       "    <tr>\n",
       "      <th>59096</th>\n",
       "      <td>209401</td>\n",
       "      <td>Михаил</td>\n",
       "      <td>Максимович</td>\n",
       "      <td>Казарин</td>\n",
       "      <td>-4.005631</td>\n",
       "    </tr>\n",
       "    <tr>\n",
       "      <th>59097</th>\n",
       "      <td>209400</td>\n",
       "      <td>Илья</td>\n",
       "      <td>Владиславович</td>\n",
       "      <td>Шапуров</td>\n",
       "      <td>-4.005650</td>\n",
       "    </tr>\n",
       "    <tr>\n",
       "      <th>59098</th>\n",
       "      <td>203842</td>\n",
       "      <td>Вероника</td>\n",
       "      <td>Андреевна</td>\n",
       "      <td>Балакина</td>\n",
       "      <td>-4.013981</td>\n",
       "    </tr>\n",
       "    <tr>\n",
       "      <th>59099</th>\n",
       "      <td>203845</td>\n",
       "      <td>Андрей</td>\n",
       "      <td>Кириллович</td>\n",
       "      <td>Бурштын</td>\n",
       "      <td>-4.055721</td>\n",
       "    </tr>\n",
       "    <tr>\n",
       "      <th>59100</th>\n",
       "      <td>203843</td>\n",
       "      <td>Анастасия</td>\n",
       "      <td>Павловна</td>\n",
       "      <td>Чурсина</td>\n",
       "      <td>-4.142071</td>\n",
       "    </tr>\n",
       "  </tbody>\n",
       "</table>\n",
       "</div>"
      ],
      "text/plain": [
       "           id       name     patronymic      surname    rating\n",
       "59091  207702      Дарья  Александровна  Безъязыкова -3.988907\n",
       "59092  207707      Антон      Денисович       Сычкин -3.988911\n",
       "59093  207704  Анастасия     Михайловна       Ильина -3.988914\n",
       "59094  207705   Кристина  Александровна     Малыгина -3.988914\n",
       "59095  207703      Дарья  Александровна    Петрушова -3.988920\n",
       "59096  209401     Михаил     Максимович      Казарин -4.005631\n",
       "59097  209400       Илья  Владиславович      Шапуров -4.005650\n",
       "59098  203842   Вероника      Андреевна     Балакина -4.013981\n",
       "59099  203845     Андрей     Кириллович      Бурштын -4.055721\n",
       "59100  203843  Анастасия       Павловна      Чурсина -4.142071"
      ]
     },
     "execution_count": 29,
     "metadata": {},
     "output_type": "execute_result"
    }
   ],
   "source": [
    "print(f\"Last {top_k} players (according to the model)\")\n",
    "df_player_rating.tail(top_k)"
   ]
  },
  {
   "cell_type": "markdown",
   "id": "ead2a501",
   "metadata": {},
   "source": [
    "I tried to compare my rating list with removed tournaments containing \"?\" and \"X\" and with replaced \"?\" to \"0\" and \"X\" to \"\". In the second case I got slightly better result.  \n",
    "Most of the players in top 10 have good rating according to the site (almost all of them are in the top 50).  \n",
    "In the end of the rating list I got players that don't have rating on the site at all.  "
   ]
  },
  {
   "cell_type": "markdown",
   "id": "0e6fbaeb",
   "metadata": {
    "pycharm": {
     "name": "#%% md\n"
    }
   },
   "source": [
    "# Task 3"
   ]
  },
  {
   "cell_type": "markdown",
   "id": "d5af356f",
   "metadata": {
    "pycharm": {
     "name": "#%% md\n"
    }
   },
   "source": [
    "3. Качество рейтинг-системы оценивается качеством предсказаний результатов турниров. Но сами повопросные результаты наши модели предсказывать вряд ли смогут, ведь неизвестно, насколько сложными окажутся вопросы в будущих турнирах; да и не нужны эти предсказания сами по себе. Поэтому:\n",
    "* предложите способ предсказать результаты нового турнира с известными составами, но неизвестными вопросами, в виде ранжирования команд;\n",
    "* в качестве метрики качества на тестовом наборе давайте считать ранговые корреляции Спирмена и Кендалла (их можно взять в пакете scipy) между реальным ранжированием в результатах турнира и предсказанным моделью,усреднённые по тестовому множеству турниров."
   ]
  },
  {
   "cell_type": "code",
   "execution_count": 30,
   "id": "a17bcc3b",
   "metadata": {
    "pycharm": {
     "name": "#%%\n"
    }
   },
   "outputs": [
    {
     "data": {
      "text/plain": [
       "{'tournament_id': 4957,\n",
       " 'position': 5.5,\n",
       " 'player_ids': [23178, 19915, 10695, 74382, 26911],\n",
       " 'mask': [0,\n",
       "  0,\n",
       "  1,\n",
       "  1,\n",
       "  0,\n",
       "  1,\n",
       "  0,\n",
       "  0,\n",
       "  1,\n",
       "  1,\n",
       "  1,\n",
       "  1,\n",
       "  1,\n",
       "  1,\n",
       "  0,\n",
       "  1,\n",
       "  0,\n",
       "  0,\n",
       "  0,\n",
       "  1,\n",
       "  1,\n",
       "  0,\n",
       "  1,\n",
       "  1,\n",
       "  1,\n",
       "  1,\n",
       "  0,\n",
       "  0,\n",
       "  0,\n",
       "  1,\n",
       "  1,\n",
       "  1,\n",
       "  0,\n",
       "  0,\n",
       "  0,\n",
       "  1,\n",
       "  0,\n",
       "  1],\n",
       " 'team_id': 45367}"
      ]
     },
     "execution_count": 30,
     "metadata": {},
     "output_type": "execute_result"
    }
   ],
   "source": [
    "test_data_results[5]"
   ]
  },
  {
   "cell_type": "markdown",
   "id": "02dfc9b1",
   "metadata": {},
   "source": [
    "Let's assume that the team rating is probability of answering a question by a team. And this probability is the average probability of answering a question by its members."
   ]
  },
  {
   "cell_type": "code",
   "execution_count": 91,
   "id": "7fd07df0",
   "metadata": {},
   "outputs": [],
   "source": [
    "def get_test_data():\n",
    "    test_data = dict()\n",
    "    medium_diff_question_idx = (\n",
    "        np.abs(\n",
    "            model_log_reg.coef_[0][len(train_player_ids):] - model_log_reg.coef_[0][len(train_player_ids):].mean()\n",
    "        )\n",
    "    ).argmin()\n",
    "    medium_diff_question = questions_ohe.categories_[0][medium_diff_question_idx]\n",
    "\n",
    "    for data_result in tqdm(test_data_results):\n",
    "        true_team_rating = data_result[\"position\"]\n",
    "        team_members = []\n",
    "        for player_id in data_result[\"player_ids\"]:\n",
    "            try:\n",
    "                players_ohe.transform([[player_id]])\n",
    "            except:\n",
    "                continue\n",
    "            team_members.append(player_id)\n",
    "        team_members = np.array(team_members)\n",
    "        if len(team_members) != 0:\n",
    "            test_questions = np.full((len(team_members), 1), medium_diff_question)\n",
    "            test_questions_ohe = questions_ohe.transform(test_questions)\n",
    "            \n",
    "            test_players_ohe = players_ohe.transform(team_members.reshape(-1, 1))\n",
    "            \n",
    "            x_test = hstack([test_players_ohe, test_questions_ohe])\n",
    "            \n",
    "            proba = model_log_reg.predict_proba(x_test)[:, 1]\n",
    "            team_rating = proba.mean()\n",
    "            \n",
    "            team_id = data_result[\"team_id\"]\n",
    "            team_result = [team_id, true_team_rating, team_rating]\n",
    "            tournament_id = data_result[\"tournament_id\"]\n",
    "            if test_data.get(tournament_id) is None:\n",
    "                test_data[tournament_id] = [team_result]\n",
    "            else:\n",
    "                test_data[tournament_id].append(team_result)\n",
    "    return test_data\n",
    "\n",
    "\n",
    "def save_test_data(data, filepath):\n",
    "    with open(filepath, 'wb') as f:\n",
    "        pickle.dump(data, f)\n",
    "\n",
    "\n",
    "def load_test_data(filepath):\n",
    "    with open(filepath, 'rb') as f:\n",
    "        data = pickle.load(f)\n",
    "    return data\n",
    "\n",
    "\n",
    "def get_correlations(test_data):\n",
    "    spearmanr_corrs = []\n",
    "    kendall_corrs = []\n",
    "    for teams_result in test_data.values():\n",
    "        teams_result = np.array(teams_result)\n",
    "        true_team_rating, team_rating = teams_result[:, 1], teams_result[:, 2]\n",
    "        spearman = scipy.stats.spearmanr(true_team_rating, team_rating).correlation\n",
    "        kendall = scipy.stats.kendalltau(true_team_rating, team_rating).correlation\n",
    "        if np.isfinite(spearman):\n",
    "            spearmanr_corrs.append(spearman)\n",
    "        if np.isfinite(kendall):\n",
    "            kendall_corrs.append(kendall)\n",
    "    return np.mean(spearmanr_corrs), np.mean(kendall_corrs)"
   ]
  },
  {
   "cell_type": "code",
   "execution_count": 92,
   "id": "55fc5176",
   "metadata": {
    "pycharm": {
     "name": "#%%\n"
    }
   },
   "outputs": [],
   "source": [
    "# # Calculating test data takes also a lot of time, so I also saved the result and just load it\n",
    "# test_data = get_test_data()"
   ]
  },
  {
   "cell_type": "code",
   "execution_count": 93,
   "id": "a55e266e",
   "metadata": {},
   "outputs": [],
   "source": [
    "TEST_DATA_FPATH = \"./data/test_data.pkl\"\n",
    "# save_test_data(test_data, TEST_DATA_FPATH)"
   ]
  },
  {
   "cell_type": "code",
   "execution_count": 94,
   "id": "a32bb4ac",
   "metadata": {},
   "outputs": [],
   "source": [
    "test_data = load_test_data(TEST_DATA_FPATH)"
   ]
  },
  {
   "cell_type": "code",
   "execution_count": 96,
   "id": "a48d542d",
   "metadata": {},
   "outputs": [
    {
     "name": "stdout",
     "output_type": "stream",
     "text": [
      "Корреляция Спирмена: 0.7851\n",
      "Корреляция Кендалла: 0.6295\n"
     ]
    }
   ],
   "source": [
    "spearmanr_corr, kendall_corr = get_correlations(test_data)\n",
    "\n",
    "print(f'Корреляция Спирмена: {abs(spearmanr_corr):.4f}')\n",
    "print(f'Корреляция Кендалла: {abs(kendall_corr):.4f}')"
   ]
  },
  {
   "cell_type": "markdown",
   "id": "21e24bb0",
   "metadata": {},
   "source": [
    "# Task 4"
   ]
  },
  {
   "cell_type": "markdown",
   "id": "856a7df7",
   "metadata": {},
   "source": [
    "4. Теперь главное: ЧГК — это всё-таки командная игра. Поэтому:\n",
    "* предложите способ учитывать то, что на вопрос отвечают сразу несколько игроков; скорее всего, понадобятся скрытые переменные; не стесняйтесь делать упрощающие предположения, но теперь переменные “игрок X ответил на вопрос Y” при условии данных должны стать зависимыми для игроков одной и той же команды;\n",
    "* разработайте EM-схему для обучения этой модели, реализуйте её в коде;\n",
    "* обучите несколько итераций, убедитесь, что целевые метрики со временем растут (скорее всего, ненамного, но расти должны), выберите лучшую модель, используя целевые метрики."
   ]
  },
  {
   "cell_type": "code",
   "execution_count": null,
   "id": "6efeb834",
   "metadata": {},
   "outputs": [],
   "source": []
  }
 ],
 "metadata": {
  "kernelspec": {
   "display_name": "Python 3 (ipykernel)",
   "language": "python",
   "name": "python3"
  },
  "language_info": {
   "codemirror_mode": {
    "name": "ipython",
    "version": 3
   },
   "file_extension": ".py",
   "mimetype": "text/x-python",
   "name": "python",
   "nbconvert_exporter": "python",
   "pygments_lexer": "ipython3",
   "version": "3.8.13"
  }
 },
 "nbformat": 4,
 "nbformat_minor": 5
}